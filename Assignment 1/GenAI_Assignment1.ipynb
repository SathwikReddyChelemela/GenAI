{
  "nbformat": 4,
  "nbformat_minor": 0,
  "metadata": {
    "colab": {
      "provenance": [],
      "toc_visible": true
    },
    "kernelspec": {
      "name": "python3",
      "display_name": "Python 3"
    },
    "language_info": {
      "name": "python"
    }
  },
  "cells": [
    {
      "cell_type": "markdown",
      "source": [
        "# Assignment 1 - Sathwik Reddy Chelemela"
      ],
      "metadata": {
        "id": "OuK8NWrM2jXA"
      }
    },
    {
      "cell_type": "markdown",
      "source": [
        "## LLM Usage\n",
        "###Using ChatGPT or any other LLM, demonstrate the effectiveness of few shot prompting over zero shot with your favorite example. Also demonstrate a chain-of-thought (CoT) prompting to improve the result of a simple arithmetic problem.\n",
        "\n",
        "\n",
        "### Few-Shot vs. Zero-Shot Prompting\n",
        "#### scenario: Predict whether a product review is positive, negative, or neutral based on its content.\n",
        "--------------------------------------------------------------------------------\n",
        "###Zero-Shot Prompt\n",
        "####In zero-shot learning, the model is given the task without any prior examples:\n",
        "\n",
        "####Prompt:\n",
        "\"Classify this review: 'The customer service was terrible, and the product arrived damaged.'\"\n",
        "\n",
        "####Expected Outcome:\n",
        "####Negative\n",
        "\n",
        "####Model Response:\n",
        "####Negative\n",
        "--------------------------------------------------------------------------------\n",
        "### Few-Shot Prompt\n",
        "#### In few-shot learning, the model is given a few examples first, which helps it understand the context and nuances better:\n",
        "\n",
        "\n",
        "####Prompt:<br>\n",
        "Classify each review into one of the categories: \"Positive,\" \"Negative,\" or \"Neutral.\"<br>\n",
        "\n",
        "\"The product quality exceeded my expectations and works perfectly!\" – Positive <br>\n",
        "\"The product is okay, but the delivery was delayed.\" – Neutral <br>\n",
        "\"The item didn’t work at all, and I had to return it immediately.\" – Negative<br>\n",
        "Now classify this review:<br>\n",
        "\"The customer service was terrible, and the product arrived damaged.\"<br>\n",
        "\n",
        "####Model Response:\n",
        "####Negative\n",
        "\n",
        "####Effectiveness: The few-shot example helps the model better understand the nuances of tone and sentiment in reviews, improving its ability to classify new reviews accurately.\n",
        "\n",
        "--------------------------------------------------------------------------------\n",
        "\n",
        "### Chain-of-Thought Prompting\n",
        "Scenario: Calculate the total amount of interest earned on a savings account over a year.\n",
        "\n",
        "Without Chain-of-Thought Prompt:\n",
        "Prompt:\n",
        "\"Calculate the interest earned on $5,000 in a savings account with an annual interest rate of 4%.\"\n",
        "\n",
        "Model Response:\n",
        "$200\n",
        "\n",
        "\n",
        "\n",
        "With Chain-of-Thought Prompt:<br>\n",
        "Prompt:<br>\n",
        "Calculate the interest earned on $5,000 in a savings account with an annual interest rate of 4%. Let's break it down step-by-step:<br>\n",
        "\n",
        "1) The annual interest rate is 4%. Convert it to a decimal: 4% = 0.04.<br>\n",
        "\n",
        "2) Multiply the principal amount 5,000 by interest= $5,000 * 0.04 = $200.\n",
        "\n",
        "3) Therefore, the total interest earned over one year is $200.\n",
        "\n",
        "\n",
        "### Conclusion\n",
        "Zero-shot prompting demonstrates how a model performs without prior examples, suitable for simpler, straightforward tasks.<br>\n",
        "Few-shot prompting provides the model with context and examples, helping it better understand complex or nuanced tasks like sentiment analysis or review classification.<br>\n",
        "Chain-of-thought prompting enhances transparency and interpretability by breaking down complex tasks into logical, step-by-step reasoning.<br>\n",
        "These prompting strategies, when tailored to the task, can significantly enhance the accuracy and usability of AI models across various applications."
      ],
      "metadata": {
        "id": "_BrbJBRbYZTH"
      }
    },
    {
      "cell_type": "markdown",
      "source": [
        "##Python Coding Exercises"
      ],
      "metadata": {
        "id": "3YoRgvOyqcvO"
      }
    },
    {
      "cell_type": "markdown",
      "source": [
        "### 1) Perform the following list operations:"
      ],
      "metadata": {
        "id": "KLJYESC-idQL"
      }
    },
    {
      "cell_type": "code",
      "source": [
        "import random\n",
        "import matplotlib"
      ],
      "metadata": {
        "id": "_TG3KNA5YZwx"
      },
      "execution_count": 46,
      "outputs": []
    },
    {
      "cell_type": "code",
      "source": [
        "#1a. maximum number in a list of numbers\n",
        "numbers = [1, 5, 2, 8, 3]\n",
        "max_num = max(numbers)\n",
        "print(\"The maximum number is:\", max_num)"
      ],
      "metadata": {
        "colab": {
          "base_uri": "https://localhost:8080/"
        },
        "id": "qmh-ARn3YqLv",
        "outputId": "6829834c-04bc-4330-a1be-2b75203ff288"
      },
      "execution_count": 47,
      "outputs": [
        {
          "output_type": "stream",
          "name": "stdout",
          "text": [
            "The maximum number is: 8\n"
          ]
        }
      ]
    },
    {
      "cell_type": "code",
      "source": [
        "#1b. concatenate two lists,\n",
        "list1 = [1, 2, 3]\n",
        "list2 = [4, 5, 6]\n",
        "list3 = list1 + list2\n",
        "list3"
      ],
      "metadata": {
        "colab": {
          "base_uri": "https://localhost:8080/"
        },
        "id": "R3KXmUodZ7ei",
        "outputId": "056ecb87-f4a6-423d-ab65-ba67276dec07"
      },
      "execution_count": 48,
      "outputs": [
        {
          "output_type": "execute_result",
          "data": {
            "text/plain": [
              "[1, 2, 3, 4, 5, 6]"
            ]
          },
          "metadata": {},
          "execution_count": 48
        }
      ]
    },
    {
      "cell_type": "code",
      "source": [
        "# 1c. reverse a list,\n",
        "list(reversed(list3))\n"
      ],
      "metadata": {
        "colab": {
          "base_uri": "https://localhost:8080/"
        },
        "id": "jko9Hk__aoo_",
        "outputId": "28efe84d-1c3c-4c79-cd1f-20ff5733fea3"
      },
      "execution_count": 49,
      "outputs": [
        {
          "output_type": "execute_result",
          "data": {
            "text/plain": [
              "[6, 5, 4, 3, 2, 1]"
            ]
          },
          "metadata": {},
          "execution_count": 49
        }
      ]
    },
    {
      "cell_type": "code",
      "source": [
        "# 1d. interchange the first and the last elements in a list,\n",
        "list3[0], list3[-1] = list3[-1], list3[0]\n",
        "list3\n"
      ],
      "metadata": {
        "colab": {
          "base_uri": "https://localhost:8080/"
        },
        "id": "fZ79PnVaarKf",
        "outputId": "133a1732-ed7a-4ebc-ed11-99cd8d5ac964"
      },
      "execution_count": 50,
      "outputs": [
        {
          "output_type": "execute_result",
          "data": {
            "text/plain": [
              "[6, 2, 3, 4, 5, 1]"
            ]
          },
          "metadata": {},
          "execution_count": 50
        }
      ]
    },
    {
      "cell_type": "code",
      "source": [
        "# 1e. search if a given string is a substring of a list of strings.\n",
        "list_of_strings = [\"apple\", \"banana\", \"cherry\", \"date\"]\n",
        "substring = \"ana\"\n",
        "\n",
        "result = any(substring in string for string in list_of_strings)\n",
        "result"
      ],
      "metadata": {
        "colab": {
          "base_uri": "https://localhost:8080/"
        },
        "id": "91XZ2e9Zavjv",
        "outputId": "12b3289e-446a-4ca4-d5f4-f9787676fa85"
      },
      "execution_count": 51,
      "outputs": [
        {
          "output_type": "execute_result",
          "data": {
            "text/plain": [
              "True"
            ]
          },
          "metadata": {},
          "execution_count": 51
        }
      ]
    },
    {
      "cell_type": "markdown",
      "source": [
        "### 2) Write a Python program to delete an element from a list by index."
      ],
      "metadata": {
        "id": "mFpKDBHRiOM7"
      }
    },
    {
      "cell_type": "code",
      "source": [
        "# using list3 as an example list\n",
        "list3\n",
        "index = int(input(\"index\"))\n",
        "index\n",
        "del list3[index]\n",
        "list3"
      ],
      "metadata": {
        "colab": {
          "base_uri": "https://localhost:8080/"
        },
        "id": "LhnjLoXPazZG",
        "outputId": "ce7d2744-8d1c-417c-9e58-54a7fa26c6df"
      },
      "execution_count": 52,
      "outputs": [
        {
          "name": "stdout",
          "output_type": "stream",
          "text": [
            "index2\n"
          ]
        },
        {
          "output_type": "execute_result",
          "data": {
            "text/plain": [
              "[6, 2, 4, 5, 1]"
            ]
          },
          "metadata": {},
          "execution_count": 52
        }
      ]
    },
    {
      "cell_type": "markdown",
      "source": [
        "###3) Write a Python program to check whether the given number is even or not."
      ],
      "metadata": {
        "id": "2VJsEUyxiFMU"
      }
    },
    {
      "cell_type": "code",
      "source": [
        "def even(i):\n",
        "    if i%2 == 0:\n",
        "        return True\n",
        "    else:\n",
        "        return False\n",
        "\n",
        "number =int(input(\"number\"))\n",
        "even(number)"
      ],
      "metadata": {
        "colab": {
          "base_uri": "https://localhost:8080/"
        },
        "id": "mjCMGWCkb0GF",
        "outputId": "002bcd8d-5229-46f1-b383-b3ec97d70309"
      },
      "execution_count": 53,
      "outputs": [
        {
          "name": "stdout",
          "output_type": "stream",
          "text": [
            "number12\n"
          ]
        },
        {
          "output_type": "execute_result",
          "data": {
            "text/plain": [
              "True"
            ]
          },
          "metadata": {},
          "execution_count": 53
        }
      ]
    },
    {
      "cell_type": "markdown",
      "source": [
        "### 4) Write a program which can compute the factorial of a given number. Make sure to take into account the exceptions like a negative number."
      ],
      "metadata": {
        "id": "T8Ung9KdiCsQ"
      }
    },
    {
      "cell_type": "code",
      "source": [
        "def factorial(n):\n",
        "    if n < 0:\n",
        "        raise ValueError(\"Factorial is not defined for negative numbers\")\n",
        "    elif n == 0 or n == 1:\n",
        "        return 1\n",
        "    else:\n",
        "        result = 1\n",
        "        for i in range(2, n + 1):\n",
        "            result *= i\n",
        "        return result\n",
        "num = int(input(\"Enter a number to find its factorial: \"))\n",
        "\n",
        "    # Compute factorial\n",
        "result = factorial(num)\n",
        "print(f\"The factorial of {num} is {result}\")"
      ],
      "metadata": {
        "colab": {
          "base_uri": "https://localhost:8080/"
        },
        "id": "ImffpHoT7hVq",
        "outputId": "f83c036e-8ebf-4385-be33-14638eac3223"
      },
      "execution_count": 54,
      "outputs": [
        {
          "output_type": "stream",
          "name": "stdout",
          "text": [
            "Enter a number to find its factorial: 5\n",
            "The factorial of 5 is 120\n"
          ]
        }
      ]
    },
    {
      "cell_type": "markdown",
      "source": [
        "###5) Write a Python program to create a dictionary and display both the keys and values sorted in alphabetical order by the key."
      ],
      "metadata": {
        "id": "0Ih9RkZXh9LP"
      }
    },
    {
      "cell_type": "code",
      "source": [
        "my_dict = {\n",
        "    'banana': 3,\n",
        "    'apple': 4,\n",
        "    'pear': 1,\n",
        "    'orange': 2\n",
        "}\n",
        "sorted_keys = sorted(my_dict.keys())\n",
        "sorted_dict ={}\n",
        "for key in sorted_keys:\n",
        "    sorted_dict[key] = my_dict[key]\n",
        "for key,value in sorted_dict.items():\n",
        "    print(f\"{key},{value}\")"
      ],
      "metadata": {
        "colab": {
          "base_uri": "https://localhost:8080/"
        },
        "id": "pMOLSikgb6XC",
        "outputId": "fa7f5e45-6e63-4479-b076-64bf41937a9f"
      },
      "execution_count": 55,
      "outputs": [
        {
          "output_type": "stream",
          "name": "stdout",
          "text": [
            "apple,4\n",
            "banana,3\n",
            "orange,2\n",
            "pear,1\n"
          ]
        }
      ]
    },
    {
      "cell_type": "markdown",
      "source": [
        "###6) Write a lambda function to compute log values of only positive numbers, else return “Invalid”."
      ],
      "metadata": {
        "id": "ih91TV2Mh3Xf"
      }
    },
    {
      "cell_type": "code",
      "source": [
        "import math\n",
        "\n",
        "log_positive = lambda x: math.log(x) if x > 0 else \"Invalid\"\n",
        "\n",
        "# Test the lambda function\n",
        "print(log_positive(10))  # Output will be the log value of 10\n",
        "print(log_positive(-10))  # Output will be \"Invalid\"\n",
        "print(log_positive(0))  # Output will be \"Invalid\""
      ],
      "metadata": {
        "colab": {
          "base_uri": "https://localhost:8080/"
        },
        "id": "rRRtaKzBjrY-",
        "outputId": "545082f2-6366-4fed-e1fe-8e5c56add875"
      },
      "execution_count": 56,
      "outputs": [
        {
          "output_type": "stream",
          "name": "stdout",
          "text": [
            "2.302585092994046\n",
            "Invalid\n",
            "Invalid\n"
          ]
        }
      ]
    },
    {
      "cell_type": "markdown",
      "source": [
        "###7) Write a function to add elements of two input matrices."
      ],
      "metadata": {
        "id": "VCCBX_G4hy3n"
      }
    },
    {
      "cell_type": "code",
      "source": [
        "mat1 = [\n",
        "    [1, 2, 3],\n",
        "    [4, 5, 6],\n",
        "    [7, 8, 9]\n",
        "]\n",
        "\n",
        "mat2 = [\n",
        "    [9, 8, 7],\n",
        "    [6, 5, 4],\n",
        "    [3, 2, 1]\n",
        "]\n",
        "result = []\n",
        "for i in range(len(mat1)):\n",
        "        row_result = []\n",
        "\n",
        "        # Iterate through columns\n",
        "        for j in range(len(mat1[0])):\n",
        "            row_result.append(mat1[i][j] + mat2[i][j])\n",
        "\n",
        "        result.append(row_result)\n",
        "result"
      ],
      "metadata": {
        "colab": {
          "base_uri": "https://localhost:8080/"
        },
        "id": "HeN2KSOgj2lc",
        "outputId": "01faa809-a862-4b95-c00e-0efdf8d93fd6"
      },
      "execution_count": 57,
      "outputs": [
        {
          "output_type": "execute_result",
          "data": {
            "text/plain": [
              "[[10, 10, 10], [10, 10, 10], [10, 10, 10]]"
            ]
          },
          "metadata": {},
          "execution_count": 57
        }
      ]
    },
    {
      "cell_type": "markdown",
      "source": [
        "### 8)  create your own Pandas dataframe df with three columns and a dozen rows. Do the following operations:"
      ],
      "metadata": {
        "id": "D3aORZUBhtf8"
      }
    },
    {
      "cell_type": "code",
      "source": [
        "# Insert a new column to df.\n",
        "# Add a new tuple to df.\n",
        "# Iterate over the rows of df and display.\n",
        "# Display the column names of df.\n",
        "# Drop a list of rows based on some criterion applied to the first column (e.g., if the first column is an integer column then all rows with values of the first column greater than 25).\n",
        "# Export df into an excel file and then import from the same.\n",
        "# Replace all the NaN values with zeros in a column of df.\n",
        "# Set a given value for a particular cell in df.\n",
        "# Divide df into in a given ratio.\n",
        "# Rename a specific column name.\n",
        "# Display the last three rows of df.\n",
        "import pandas as pd\n",
        "import numpy as np\n",
        "\n",
        "# Create DataFrame df with three columns and a dozen rows\n",
        "df = pd.DataFrame({\n",
        "    'A': np.random.randint(1, 50, 12),\n",
        "    'B': np.random.randn(12),\n",
        "    'C': np.random.choice(['yes', 'no'], 12)\n",
        "})\n",
        "\n",
        "print(\"Original DataFrame:\")\n",
        "print(df)\n",
        "\n",
        "# Insert a new column to df\n",
        "df['D'] = np.random.rand(12)\n",
        "print(\"\\nDataFrame after inserting a new column:\")\n",
        "print(df)\n",
        "\n",
        "# Add a new tuple to df\n",
        "new_row = pd.DataFrame({'A': 99, 'B': 0.5, 'C': 'yes', 'D': 0.7},index=[0])\n",
        "df = pd.concat([df, pd.DataFrame(new_row,index=[0])], ignore_index=True)\n",
        "print(\"\\nDataFrame after adding a new tuple:\")\n",
        "print(df)\n",
        "\n",
        "# Iterate over the rows of df and display\n",
        "print(\"\\nIterating over the rows:\")\n",
        "for index, row in df.iterrows():\n",
        "    print(row)\n",
        "\n",
        "# Display the column names of df\n",
        "print(\"\\nColumn names:\")\n",
        "print(df.columns)\n",
        "\n",
        "# Drop rows where column 'A' has a value greater than 25\n",
        "df = df[df['A'] <= 25]\n",
        "print(\"\\nDataFrame after dropping rows based on criterion:\")\n",
        "print(df)\n",
        "\n",
        "# Export df into an excel file and then import from the same\n",
        "df.to_excel(\"dataframe.xlsx\", index=False)\n",
        "# df_imported = pd.read_excel(\"dataframe.xlsx\")\n",
        "print(\"\\nDataFrame after exporting and importing from Excel:\")\n",
        "# print(df_imported)\n",
        "\n",
        "# Replace all the NaN values with zeros in a column\n",
        "df['A'].fillna(0, inplace=True)\n",
        "print(\"\\nDataFrame after replacing NaN with 0:\")\n",
        "print(df)\n",
        "\n",
        "# Set a given value for a particular cell in df\n",
        "df.at[0, 'A'] = 100\n",
        "print(\"\\nDataFrame after setting a specific cell value:\")\n",
        "print(df)\n",
        "\n",
        "# Divide df into in a given ratio (e.g., 70-30 split)\n",
        "train = df.sample(frac=0.7, random_state=42)\n",
        "test = df.drop(train.index)\n",
        "print(\"\\nTrain DataFrame:\")\n",
        "print(train)\n",
        "print(\"\\nTest DataFrame:\")\n",
        "print(test)\n",
        "\n",
        "# Rename a specific column name\n",
        "df.rename(columns={'A': 'Column_A'}, inplace=True)\n",
        "print(\"\\nDataFrame after renaming a column:\")\n",
        "print(df)\n",
        "\n",
        "# Display the last three rows of df\n",
        "print(\"\\nLast three rows of DataFrame:\")\n",
        "print(df.tail(3))\n"
      ],
      "metadata": {
        "colab": {
          "base_uri": "https://localhost:8080/"
        },
        "id": "XreRNhW_j45s",
        "outputId": "b88fd4d6-0874-45ad-c89a-9ff5468ae9a6"
      },
      "execution_count": 58,
      "outputs": [
        {
          "output_type": "stream",
          "name": "stdout",
          "text": [
            "Original DataFrame:\n",
            "     A         B    C\n",
            "0   22 -0.255673  yes\n",
            "1   10 -0.527134   no\n",
            "2   43  0.196265   no\n",
            "3   35  1.060157   no\n",
            "4   43  1.308173   no\n",
            "5   35  1.202894   no\n",
            "6   26  1.425214   no\n",
            "7   43  2.177937   no\n",
            "8    4 -0.615876   no\n",
            "9   45 -0.049164   no\n",
            "10   1 -2.387345  yes\n",
            "11  19  0.380203  yes\n",
            "\n",
            "DataFrame after inserting a new column:\n",
            "     A         B    C         D\n",
            "0   22 -0.255673  yes  0.218707\n",
            "1   10 -0.527134   no  0.281045\n",
            "2   43  0.196265   no  0.323440\n",
            "3   35  1.060157   no  0.177240\n",
            "4   43  1.308173   no  0.969927\n",
            "5   35  1.202894   no  0.747815\n",
            "6   26  1.425214   no  0.003620\n",
            "7   43  2.177937   no  0.283937\n",
            "8    4 -0.615876   no  0.364854\n",
            "9   45 -0.049164   no  0.313086\n",
            "10   1 -2.387345  yes  0.109421\n",
            "11  19  0.380203  yes  0.954602\n",
            "\n",
            "DataFrame after adding a new tuple:\n",
            "     A         B    C         D\n",
            "0   22 -0.255673  yes  0.218707\n",
            "1   10 -0.527134   no  0.281045\n",
            "2   43  0.196265   no  0.323440\n",
            "3   35  1.060157   no  0.177240\n",
            "4   43  1.308173   no  0.969927\n",
            "5   35  1.202894   no  0.747815\n",
            "6   26  1.425214   no  0.003620\n",
            "7   43  2.177937   no  0.283937\n",
            "8    4 -0.615876   no  0.364854\n",
            "9   45 -0.049164   no  0.313086\n",
            "10   1 -2.387345  yes  0.109421\n",
            "11  19  0.380203  yes  0.954602\n",
            "12  99  0.500000  yes  0.700000\n",
            "\n",
            "Iterating over the rows:\n",
            "A          22\n",
            "B   -0.255673\n",
            "C         yes\n",
            "D    0.218707\n",
            "Name: 0, dtype: object\n",
            "A          10\n",
            "B   -0.527134\n",
            "C          no\n",
            "D    0.281045\n",
            "Name: 1, dtype: object\n",
            "A          43\n",
            "B    0.196265\n",
            "C          no\n",
            "D     0.32344\n",
            "Name: 2, dtype: object\n",
            "A          35\n",
            "B    1.060157\n",
            "C          no\n",
            "D     0.17724\n",
            "Name: 3, dtype: object\n",
            "A          43\n",
            "B    1.308173\n",
            "C          no\n",
            "D    0.969927\n",
            "Name: 4, dtype: object\n",
            "A          35\n",
            "B    1.202894\n",
            "C          no\n",
            "D    0.747815\n",
            "Name: 5, dtype: object\n",
            "A          26\n",
            "B    1.425214\n",
            "C          no\n",
            "D     0.00362\n",
            "Name: 6, dtype: object\n",
            "A          43\n",
            "B    2.177937\n",
            "C          no\n",
            "D    0.283937\n",
            "Name: 7, dtype: object\n",
            "A           4\n",
            "B   -0.615876\n",
            "C          no\n",
            "D    0.364854\n",
            "Name: 8, dtype: object\n",
            "A          45\n",
            "B   -0.049164\n",
            "C          no\n",
            "D    0.313086\n",
            "Name: 9, dtype: object\n",
            "A           1\n",
            "B   -2.387345\n",
            "C         yes\n",
            "D    0.109421\n",
            "Name: 10, dtype: object\n",
            "A          19\n",
            "B    0.380203\n",
            "C         yes\n",
            "D    0.954602\n",
            "Name: 11, dtype: object\n",
            "A     99\n",
            "B    0.5\n",
            "C    yes\n",
            "D    0.7\n",
            "Name: 12, dtype: object\n",
            "\n",
            "Column names:\n",
            "Index(['A', 'B', 'C', 'D'], dtype='object')\n",
            "\n",
            "DataFrame after dropping rows based on criterion:\n",
            "     A         B    C         D\n",
            "0   22 -0.255673  yes  0.218707\n",
            "1   10 -0.527134   no  0.281045\n",
            "8    4 -0.615876   no  0.364854\n",
            "10   1 -2.387345  yes  0.109421\n",
            "11  19  0.380203  yes  0.954602\n",
            "\n",
            "DataFrame after exporting and importing from Excel:\n",
            "\n",
            "DataFrame after replacing NaN with 0:\n",
            "     A         B    C         D\n",
            "0   22 -0.255673  yes  0.218707\n",
            "1   10 -0.527134   no  0.281045\n",
            "8    4 -0.615876   no  0.364854\n",
            "10   1 -2.387345  yes  0.109421\n",
            "11  19  0.380203  yes  0.954602\n",
            "\n",
            "DataFrame after setting a specific cell value:\n",
            "      A         B    C         D\n",
            "0   100 -0.255673  yes  0.218707\n",
            "1    10 -0.527134   no  0.281045\n",
            "8     4 -0.615876   no  0.364854\n",
            "10    1 -2.387345  yes  0.109421\n",
            "11   19  0.380203  yes  0.954602\n",
            "\n",
            "Train DataFrame:\n",
            "      A         B    C         D\n",
            "1    10 -0.527134   no  0.281045\n",
            "11   19  0.380203  yes  0.954602\n",
            "8     4 -0.615876   no  0.364854\n",
            "0   100 -0.255673  yes  0.218707\n",
            "\n",
            "Test DataFrame:\n",
            "    A         B    C         D\n",
            "10  1 -2.387345  yes  0.109421\n",
            "\n",
            "DataFrame after renaming a column:\n",
            "    Column_A         B    C         D\n",
            "0        100 -0.255673  yes  0.218707\n",
            "1         10 -0.527134   no  0.281045\n",
            "8          4 -0.615876   no  0.364854\n",
            "10         1 -2.387345  yes  0.109421\n",
            "11        19  0.380203  yes  0.954602\n",
            "\n",
            "Last three rows of DataFrame:\n",
            "    Column_A         B    C         D\n",
            "8          4 -0.615876   no  0.364854\n",
            "10         1 -2.387345  yes  0.109421\n",
            "11        19  0.380203  yes  0.954602\n"
          ]
        },
        {
          "output_type": "stream",
          "name": "stderr",
          "text": [
            "<ipython-input-58-2e0ba0fb3d74>:57: FutureWarning: A value is trying to be set on a copy of a DataFrame or Series through chained assignment using an inplace method.\n",
            "The behavior will change in pandas 3.0. This inplace method will never work because the intermediate object on which we are setting values always behaves as a copy.\n",
            "\n",
            "For example, when doing 'df[col].method(value, inplace=True)', try using 'df.method({col: value}, inplace=True)' or df[col] = df[col].method(value) instead, to perform the operation inplace on the original object.\n",
            "\n",
            "\n",
            "  df['A'].fillna(0, inplace=True)\n"
          ]
        }
      ]
    },
    {
      "cell_type": "markdown",
      "source": [
        "### 9) With a given list of numbers, write a program to print this list after removing all duplicate values with the original order reserved."
      ],
      "metadata": {
        "id": "OoL7tzWOhn7g"
      }
    },
    {
      "cell_type": "code",
      "source": [
        "list9 = random.sample(range(10),5)\n",
        "list9 = list9+list9\n",
        "print(list9)\n",
        "\n",
        "seen = set()\n",
        "result = []\n",
        "for num in list9:\n",
        "    if num not in seen:\n",
        "      seen.add(num)\n",
        "      result.append(num)\n",
        "result"
      ],
      "metadata": {
        "colab": {
          "base_uri": "https://localhost:8080/"
        },
        "id": "Wr0PMLRD_XuY",
        "outputId": "042db76f-9e13-4ce1-fcea-858ae9a41176"
      },
      "execution_count": 59,
      "outputs": [
        {
          "output_type": "stream",
          "name": "stdout",
          "text": [
            "[9, 4, 8, 3, 5, 9, 4, 8, 3, 5]\n"
          ]
        },
        {
          "output_type": "execute_result",
          "data": {
            "text/plain": [
              "[9, 4, 8, 3, 5]"
            ]
          },
          "metadata": {},
          "execution_count": 59
        }
      ]
    },
    {
      "cell_type": "markdown",
      "source": [
        "###10) Write a program which counts and prints the numbers of each character in a string input by console"
      ],
      "metadata": {
        "id": "zs8o7fs1hhnI"
      }
    },
    {
      "cell_type": "code",
      "source": [
        "str = input(\"input string\")\n",
        "dict10 = {}\n",
        "def create_dict(str):\n",
        "    for char in str:\n",
        "        if char not in dict10.keys():\n",
        "            dict10.setdefault(char,1)\n",
        "        else:\n",
        "            dict10[char] += 1\n",
        "\n",
        "create_dict(str)\n",
        "for key,value in dict10.items():\n",
        "    print(f'{key},{value}')"
      ],
      "metadata": {
        "colab": {
          "base_uri": "https://localhost:8080/"
        },
        "id": "lXZeScT1J06a",
        "outputId": "b3471660-46db-4cbf-96c3-ead98093dd2c"
      },
      "execution_count": 60,
      "outputs": [
        {
          "output_type": "stream",
          "name": "stdout",
          "text": [
            "input stringabcdefgabc\n",
            "a,2\n",
            "b,2\n",
            "c,2\n",
            "d,1\n",
            "e,1\n",
            "f,1\n",
            "g,1\n"
          ]
        }
      ]
    },
    {
      "cell_type": "markdown",
      "source": [
        "###11) Check if a given string is symmetrical and palindrome or not. A string is said to be symmetrical if both the halves of the string are the same and a string is said to be a palindrome string if one half of the string is the reverse of the other half or if a string appears same when read forward or backward. The string “malayalam” is palindrome, “byebye” is symmetrical."
      ],
      "metadata": {
        "id": "BupsHx4fhaq8"
      }
    },
    {
      "cell_type": "code",
      "source": [
        "def check_symmetry_and_palindrome(s):\n",
        "    n = len(s)\n",
        "    first_half = s[:n//2]\n",
        "    second_half = s[(n+1)//2:]\n",
        "\n",
        "    # Check if the string is symmetrical\n",
        "    is_symmetrical = first_half == second_half\n",
        "\n",
        "    # Check if the string is a palindrome\n",
        "    is_palindrome = s == s[::-1]\n",
        "\n",
        "    return is_symmetrical, is_palindrome\n",
        "s1 = \"malayalam\"\n",
        "s2 = \"byebye\"\n",
        "\n",
        "is_symmetrical1, is_palindrome1 = check_symmetry_and_palindrome(s1)\n",
        "is_symmetrical2, is_palindrome2 = check_symmetry_and_palindrome(s2)\n",
        "print(is_symmetrical1)\n",
        "print(is_palindrome1)\n",
        "print(is_symmetrical2)\n",
        "print(is_palindrome2)"
      ],
      "metadata": {
        "colab": {
          "base_uri": "https://localhost:8080/"
        },
        "id": "KGUybZPNJ68e",
        "outputId": "e7fec38c-8369-4eca-9352-8eeddfad8a04"
      },
      "execution_count": 61,
      "outputs": [
        {
          "output_type": "stream",
          "name": "stdout",
          "text": [
            "False\n",
            "True\n",
            "True\n",
            "False\n"
          ]
        }
      ]
    },
    {
      "cell_type": "markdown",
      "source": [
        "### 12) Write a Python program to find the n-th term in a Fibonacci series using recursion."
      ],
      "metadata": {
        "id": "61eC507qhVuv"
      }
    },
    {
      "cell_type": "code",
      "source": [
        "def Fibonacci(n):\n",
        "    if n==1 or n==2:\n",
        "        return 1;\n",
        "    return  Fibonacci(n-1)+Fibonacci(n-2);\n",
        "Fibonacci(4)"
      ],
      "metadata": {
        "colab": {
          "base_uri": "https://localhost:8080/"
        },
        "id": "XspRazJCLA3n",
        "outputId": "42f6f4c4-cb7b-4c74-bb42-16403cf93e30"
      },
      "execution_count": 62,
      "outputs": [
        {
          "output_type": "execute_result",
          "data": {
            "text/plain": [
              "3"
            ]
          },
          "metadata": {},
          "execution_count": 62
        }
      ]
    },
    {
      "cell_type": "markdown",
      "source": [
        "### 13) Write a Python program to find the longest substring between two given strings. You may not use any package except the substring function but you can make use of recursive function. Here is the way you will be graded:"
      ],
      "metadata": {
        "id": "uST9AAwLhR6c"
      }
    },
    {
      "cell_type": "code",
      "source": [
        "def longest_substring(str1,str2):\n",
        "    n = len(s1)\n",
        "    m = len(s2)\n",
        "\n",
        "    # Initialize a matrix to store lengths of common suffixes\n",
        "    dp = [[0] * (m + 1) for _ in range(n + 1)]\n",
        "    max_length = 0\n",
        "    end_index = 0\n",
        "\n",
        "    for i in range(1, n + 1):\n",
        "        for j in range(1, m + 1):\n",
        "            if s1[i-1] == s2[j-1]:\n",
        "                dp[i][j] = dp[i-1][j-1] + 1\n",
        "                if dp[i][j] > max_length:\n",
        "                    max_length = dp[i][j]\n",
        "                    end_index = i\n",
        "            else:\n",
        "                dp[i][j] = 0\n",
        "\n",
        "    # The longest common substring\n",
        "    longest_substring = s1[end_index - max_length:end_index]\n",
        "    return longest_substring\n",
        "s1 = \"We are currently in lockdown\"\n",
        "s2 = \"There was a lock on the door\"\n",
        "\n",
        "result = longest_substring(s1,s2)\n",
        "result"
      ],
      "metadata": {
        "colab": {
          "base_uri": "https://localhost:8080/",
          "height": 35
        },
        "id": "9d1Hg-xgLHkh",
        "outputId": "57db97fb-6f64-452e-c7d9-fba886d18831"
      },
      "execution_count": 63,
      "outputs": [
        {
          "output_type": "execute_result",
          "data": {
            "text/plain": [
              "' lock'"
            ],
            "application/vnd.google.colaboratory.intrinsic+json": {
              "type": "string"
            }
          },
          "metadata": {},
          "execution_count": 63
        }
      ]
    },
    {
      "cell_type": "markdown",
      "source": [
        "###14 Write a Python program which accepts basic mathematical expressions from console and print the evaluation result."
      ],
      "metadata": {
        "id": "-G2eyw9dhKCh"
      }
    },
    {
      "cell_type": "code",
      "source": [
        "def safe_eval(expression):\n",
        "    allowed_chars = set(\"0123456789+-*/(). \")\n",
        "    if all(char in allowed_chars for char in expression):\n",
        "        try:\n",
        "            return eval(expression)\n",
        "        except ZeroDivisionError:\n",
        "            return \"Error: Division by zero\"\n",
        "        except Exception as e:\n",
        "            return f\"Error: {e}\"\n",
        "    else:\n",
        "        return \"Error: Invalid characters in expression\"\n",
        "\n",
        "if __name__ == \"__main__\":\n",
        "    expression = input(\"Enter a basic mathematical expression: \")\n",
        "    result = safe_eval(expression)\n",
        "    print(f\"Result: {result}\")\n"
      ],
      "metadata": {
        "colab": {
          "base_uri": "https://localhost:8080/"
        },
        "id": "EmReqr59LUA0",
        "outputId": "75e50181-ec62-4139-e5e0-0903a96ce4f6"
      },
      "execution_count": 64,
      "outputs": [
        {
          "output_type": "stream",
          "name": "stdout",
          "text": [
            "Enter a basic mathematical expression: 35 + 3 * 2\n",
            "Result: 41\n"
          ]
        }
      ]
    },
    {
      "cell_type": "markdown",
      "source": [
        "###15 Read the loan data file into a dataframe and then compute the following:\n",
        "mean and variance of the Age column,\n",
        "correlation coefficient between the two numerical columns Age and Time_at_address,\n",
        "the conditional probability p(Decision = reject | Occupation = Unemployed), frequency Suppose the loan data file provides some examples of applications to accept or reject, as specified in the Decision column N, given the input background info in columns A-M. Come up with various ways to find out the degree of relevance between each input “categorical” column of A-M and the Decision column N. (hint. Chi-Square Test of Independence and Mutual Information)cy of values in the Job-status column and then draw a bar diagram using matplotlib."
      ],
      "metadata": {
        "id": "lQyf3ajAgRnd"
      }
    },
    {
      "cell_type": "code",
      "source": [
        "import matplotlib.pyplot as plt\n",
        "# Load data\n",
        "df_loan = pd.read_excel('loan.xlsx')\n",
        "# df_loan\n",
        "mean_age = df_loan['Age'].mean()\n",
        "variance_age = df_loan['Age'].var()\n",
        "\n",
        "print(f\"Mean of Age: {mean_age}\")\n",
        "print(f\"Variance of Age: {variance_age}\")\n",
        "\n",
        "correlation = df_loan[['Age', 'Time_at_address']].corr()\n",
        "print(f\"Correlation between Age and Time_at_address: {correlation.loc['Age', 'Time_at_address']}\")\n",
        "\n",
        "correlation = df_loan[['Age', 'Time_at_address']].corr()\n",
        "print(f\"Correlation between Age and Time_at_address: {correlation.loc['Age', 'Time_at_address']}\")\n",
        "\n",
        "total_unemployed = df_loan[df_loan['Occupation'] == 'unemploye'].shape[0]\n",
        "total_rejected_unemployed = df_loan[(df_loan['Occupation'] == 'unemploye') & (df_loan['Decision'] == 'reject')].shape[0]\n",
        "\n",
        "if total_unemployed != 0:\n",
        "    conditional_probability = total_rejected_unemployed / total_unemployed\n",
        "    print(f\"Conditional Probability: {conditional_probability}\")\n",
        "else:\n",
        "    print(\"No unemployed records to compute conditional probability.\")\n",
        "job_status_count = df_loan['Job_status'].value_counts()\n",
        "print(job_status_count)\n",
        "\n",
        "# Draw Bar Diagram\n",
        "plt.bar(job_status_count.index, job_status_count.values)\n",
        "plt.xlabel('Job Status')\n",
        "plt.ylabel('Frequency')\n",
        "plt.title('Job Status Distribution')\n",
        "plt.show()"
      ],
      "metadata": {
        "colab": {
          "base_uri": "https://localhost:8080/",
          "height": 722
        },
        "id": "pd1nKxo0LaWu",
        "outputId": "bfd95d2d-109b-4291-8db0-ed909326c347"
      },
      "execution_count": 65,
      "outputs": [
        {
          "output_type": "stream",
          "name": "stdout",
          "text": [
            "Mean of Age: 31.51016316713987\n",
            "Variance of Age: 140.2707459411694\n",
            "Correlation between Age and Time_at_address: 0.21734150131364374\n",
            "Correlation between Age and Time_at_address: 0.21734150131364374\n",
            "Conditional Probability: 0.8666666666666667\n",
            "Job_status\n",
            "private_s    265\n",
            "governmen     82\n",
            "self_empl     37\n",
            "unemploye     31\n",
            "retired        8\n",
            "student        5\n",
            "military       1\n",
            "Name: count, dtype: int64\n"
          ]
        },
        {
          "output_type": "display_data",
          "data": {
            "text/plain": [
              "<Figure size 640x480 with 1 Axes>"
            ],
            "image/png": "[encoded data removed]"
          },
          "metadata": {}
        }
      ]
    },
    {
      "cell_type": "markdown",
      "source": [
        "###16 Suppose the loan data file provides some examples of applications to accept or reject, as specified in the Decision column N, given the input background info in columns A-M. Come up with various ways to find out the degree of relevance between each input “categorical” column of A-M and the Decision column N. (hint. Chi-Square Test of Independence and Mutual Information)"
      ],
      "metadata": {
        "id": "4Irr81P6gOjD"
      }
    },
    {
      "cell_type": "code",
      "source": [
        "from scipy.stats import chi2_contingency\n",
        "for col in df_loan.columns:\n",
        "    contingency_table = pd.crosstab(df_loan[col], df_loan['Decision'])\n",
        "    _, p_value, _, _ = chi2_contingency(contingency_table)\n",
        "    print(f\"p-value for {col}: {p_value}\")"
      ],
      "metadata": {
        "colab": {
          "base_uri": "https://localhost:8080/"
        },
        "id": "VZbosi9kvNFI",
        "outputId": "da0c338d-afe1-4d50-e66c-342a1ac9004f"
      },
      "execution_count": 66,
      "outputs": [
        {
          "output_type": "stream",
          "name": "stdout",
          "text": [
            "p-value for Sex: 0.32472194700727103\n",
            "p-value for Age: 0.2962203354632565\n",
            "p-value for Time_at_address: 0.26931516746140144\n",
            "p-value for Res_status: 0.005690368175836289\n",
            "p-value for Telephone: 0.005690368175836289\n",
            "p-value for Occupation: 9.980070508394483e-08\n",
            "p-value for Job_status: 0.0002621149847778766\n",
            "p-value for Time_employed: 2.5644729400248205e-12\n",
            "p-value for Time_bank: 9.138247773480138e-17\n",
            "p-value for Liab_ref: 0.1863349426112134\n",
            "p-value for Acc_ref: 0.04386987339959904\n",
            "p-value for Home_Expn: 0.012417346116707108\n",
            "p-value for Balance: 0.014238088782275036\n",
            "p-value for Decision: 2.0265786404555163e-94\n"
          ]
        }
      ]
    },
    {
      "cell_type": "markdown",
      "source": [
        "###17 Define a class, called Lunch, with __init__() method should have two arguments, self and menu, where menu is a string. Add a method called menu_price. It will involve an if statement: if \"menu 1\" then print \"Price 12.00\", if \"menu 2\" then print \"Price 13.40\", else print \"Error in menu\". Test with Paul = Lunch(\"menu 1\") and call Paul.menu_price()."
      ],
      "metadata": {
        "id": "sVv2reKEgLpG"
      }
    },
    {
      "cell_type": "code",
      "source": [
        "class Lunch:\n",
        "    def __init__(self, menu):\n",
        "        self.menu = menu\n",
        "\n",
        "    def menu_price(self):\n",
        "        if self.menu == \"menu 1\":\n",
        "            print(\"Price 12.00\")\n",
        "        elif self.menu == \"menu 2\":\n",
        "            print(\"Price 13.40\")\n",
        "        else:\n",
        "            print(\"Error in menu\")\n",
        "\n",
        "# Test the class\n",
        "Paul = Lunch(\"menu 1\")\n",
        "Paul.menu_price()"
      ],
      "metadata": {
        "colab": {
          "base_uri": "https://localhost:8080/"
        },
        "id": "-OeI9UMowhEi",
        "outputId": "e3465c0a-30bb-4d5c-968d-2d3c8460dfc1"
      },
      "execution_count": 67,
      "outputs": [
        {
          "output_type": "stream",
          "name": "stdout",
          "text": [
            "Price 12.00\n"
          ]
        }
      ]
    },
    {
      "cell_type": "markdown",
      "source": [
        "### 18) In the Kaggle insurance data set (https://www.kaggle.com/c/prudential-life-insurance- assessment/data), the Response column is the output variable and the rest are input variables. Perform the following:\n",
        " • Fill in the missing values applying an appropriate technique.\n",
        "\n",
        " • Make use of the insurance data set to explore the multicollinearity among the input variables.\n",
        "\n",
        " • Single out three input variables that are most relevant to predicting the output variable"
      ],
      "metadata": {
        "id": "U64BteF7f85C"
      }
    },
    {
      "cell_type": "code",
      "source": [
        "\n",
        "import seaborn as sns\n",
        "import matplotlib.pyplot as plt\n",
        "import statsmodels.api as sm\n",
        "from statsmodels.stats.outliers_influence import variance_inflation_factor\n",
        "df_test = pd.read_csv(\"test.csv\")\n",
        "columns = df_test.columns\n",
        "for column in columns:\n",
        "    if df_test[column].isnull().sum()>0:\n",
        "        df_test[column].fillna(df_test[column].mean(), inplace=True)\n",
        "\n",
        "# Compute the correlation matrix\n",
        "corr = df_test.corr(numeric_only=True)\n",
        "\n",
        "# Draw the heatmap\n",
        "sns.heatmap(corr, annot=True)\n",
        "plt.show()\n",
        "\n",
        "X = df_test.drop([\"Id\",\"Product_Info_1\",\"Product_Info_2\"], axis=1)\n",
        "X = sm.add_constant(X)  # Adding a constant (intercept term)\n",
        "vif_data = pd.DataFrame()\n",
        "vif_data['Feature'] = X.columns\n",
        "\n",
        "vif_data['VIF'] = [variance_inflation_factor(X.values, i) for i in range(len(X.columns))]\n",
        "print(vif_data.to_string())\n",
        "# print(vif_data.drop(0,axis=0))\n",
        "# print(vif_data.to_string())\n",
        "print(vif_data.nlargest(4,'VIF').drop(0,axis=0))"
      ],
      "metadata": {
        "colab": {
          "base_uri": "https://localhost:8080/",
          "height": 1000
        },
        "id": "J9V37dnvbF_g",
        "outputId": "a79aff0c-7e65-4e9c-8560-5b8e61fdb355"
      },
      "execution_count": 68,
      "outputs": [
        {
          "output_type": "stream",
          "name": "stderr",
          "text": [
            "<ipython-input-68-e2bcf77d866f>:9: FutureWarning: A value is trying to be set on a copy of a DataFrame or Series through chained assignment using an inplace method.\n",
            "The behavior will change in pandas 3.0. This inplace method will never work because the intermediate object on which we are setting values always behaves as a copy.\n",
            "\n",
            "For example, when doing 'df[col].method(value, inplace=True)', try using 'df.method({col: value}, inplace=True)' or df[col] = df[col].method(value) instead, to perform the operation inplace on the original object.\n",
            "\n",
            "\n",
            "  df_test[column].fillna(df_test[column].mean(), inplace=True)\n"
          ]
        },
        {
          "output_type": "display_data",
          "data": {
            "text/plain": [
              "<Figure size 640x480 with 2 Axes>"
            ],
            "image/png": "[encoded data removed]"
          },
          "metadata": {}
        },
        {
          "output_type": "stream",
          "name": "stdout",
          "text": [
            "                 Feature           VIF\n",
            "0                  const  22867.864246\n",
            "1         Product_Info_3      2.727773\n",
            "2         Product_Info_4      1.441623\n",
            "3         Product_Info_5      1.017004\n",
            "4         Product_Info_6      1.062641\n",
            "5         Product_Info_7      1.021002\n",
            "6                Ins_Age      3.118461\n",
            "7                     Ht     24.862918\n",
            "8                     Wt     85.609503\n",
            "9                    BMI     54.952877\n",
            "10     Employment_Info_1      1.449938\n",
            "11     Employment_Info_2      2.617532\n",
            "12     Employment_Info_3      2.944354\n",
            "13     Employment_Info_4      1.066214\n",
            "14     Employment_Info_5      2.688750\n",
            "15     Employment_Info_6      1.443524\n",
            "16         InsuredInfo_1      1.265555\n",
            "17         InsuredInfo_2      1.420589\n",
            "18         InsuredInfo_3      1.027782\n",
            "19         InsuredInfo_4      1.056082\n",
            "20         InsuredInfo_5      1.079438\n",
            "21         InsuredInfo_6      2.609853\n",
            "22         InsuredInfo_7      1.433315\n",
            "23   Insurance_History_1     12.727376\n",
            "24   Insurance_History_2      1.042264\n",
            "25   Insurance_History_3     47.945628\n",
            "26   Insurance_History_4     11.615743\n",
            "27   Insurance_History_5      1.199644\n",
            "28   Insurance_History_7     19.612872\n",
            "29   Insurance_History_8      9.356610\n",
            "30   Insurance_History_9     23.969622\n",
            "31         Family_Hist_1      1.140630\n",
            "32         Family_Hist_2      1.648412\n",
            "33         Family_Hist_3      1.127606\n",
            "34         Family_Hist_4      2.123317\n",
            "35         Family_Hist_5      1.116697\n",
            "36     Medical_History_1      1.065205\n",
            "37     Medical_History_2      1.024087\n",
            "38     Medical_History_3      1.300275\n",
            "39     Medical_History_4      1.191927\n",
            "40     Medical_History_5      1.013788\n",
            "41     Medical_History_6     67.402776\n",
            "42     Medical_History_7      1.950397\n",
            "43     Medical_History_8      2.113370\n",
            "44     Medical_History_9      1.123282\n",
            "45    Medical_History_10      1.042825\n",
            "46    Medical_History_11      1.052123\n",
            "47    Medical_History_12      2.182611\n",
            "48    Medical_History_13      5.061011\n",
            "49    Medical_History_14      1.833618\n",
            "50    Medical_History_15      1.101995\n",
            "51    Medical_History_16      2.194114\n",
            "52    Medical_History_17      1.514991\n",
            "53    Medical_History_18      2.222226\n",
            "54    Medical_History_19      3.326553\n",
            "55    Medical_History_20      1.042355\n",
            "56    Medical_History_21      3.439694\n",
            "57    Medical_History_22      1.306569\n",
            "58    Medical_History_23      5.149207\n",
            "59    Medical_History_24      1.045460\n",
            "60    Medical_History_25     43.437549\n",
            "61    Medical_History_26     54.444926\n",
            "62    Medical_History_27      1.031046\n",
            "63    Medical_History_28      1.081015\n",
            "64    Medical_History_29      1.475770\n",
            "65    Medical_History_30      1.606594\n",
            "66    Medical_History_31      1.012622\n",
            "67    Medical_History_32      1.008510\n",
            "68    Medical_History_33     67.774200\n",
            "69    Medical_History_34      1.152343\n",
            "70    Medical_History_35      1.011044\n",
            "71    Medical_History_36     14.831269\n",
            "72    Medical_History_37     11.437437\n",
            "73    Medical_History_38      1.100178\n",
            "74    Medical_History_39      2.861941\n",
            "75    Medical_History_40      1.123387\n",
            "76    Medical_History_41      1.178417\n",
            "77     Medical_Keyword_1      1.476767\n",
            "78     Medical_Keyword_2      1.172943\n",
            "79     Medical_Keyword_3      2.657415\n",
            "80     Medical_Keyword_4      1.085662\n",
            "81     Medical_Keyword_5      1.069534\n",
            "82     Medical_Keyword_6      1.115478\n",
            "83     Medical_Keyword_7      1.048768\n",
            "84     Medical_Keyword_8      1.264326\n",
            "85     Medical_Keyword_9      1.191399\n",
            "86    Medical_Keyword_10      1.364674\n",
            "87    Medical_Keyword_11     11.373588\n",
            "88    Medical_Keyword_12      1.098207\n",
            "89    Medical_Keyword_13      1.126743\n",
            "90    Medical_Keyword_14      1.117974\n",
            "91    Medical_Keyword_15      4.273079\n",
            "92    Medical_Keyword_16      1.438949\n",
            "93    Medical_Keyword_17      1.063284\n",
            "94    Medical_Keyword_18      1.127976\n",
            "95    Medical_Keyword_19      1.503768\n",
            "96    Medical_Keyword_20      1.056549\n",
            "97    Medical_Keyword_21      1.147095\n",
            "98    Medical_Keyword_22      2.133215\n",
            "99    Medical_Keyword_23     68.315816\n",
            "100   Medical_Keyword_24      1.223908\n",
            "101   Medical_Keyword_25      1.490750\n",
            "102   Medical_Keyword_26      1.232681\n",
            "103   Medical_Keyword_27      1.159664\n",
            "104   Medical_Keyword_28      1.410142\n",
            "105   Medical_Keyword_29      1.066445\n",
            "106   Medical_Keyword_30      3.301771\n",
            "107   Medical_Keyword_31      1.087396\n",
            "108   Medical_Keyword_32      1.465823\n",
            "109   Medical_Keyword_33      1.135574\n",
            "110   Medical_Keyword_34      1.734986\n",
            "111   Medical_Keyword_35      1.153365\n",
            "112   Medical_Keyword_36      1.306050\n",
            "113   Medical_Keyword_37      1.170871\n",
            "114   Medical_Keyword_38      1.227607\n",
            "115   Medical_Keyword_39      1.379101\n",
            "116   Medical_Keyword_40      3.261268\n",
            "117   Medical_Keyword_41      1.348717\n",
            "118   Medical_Keyword_42      2.860086\n",
            "119   Medical_Keyword_43      1.277245\n",
            "120   Medical_Keyword_44      1.060992\n",
            "121   Medical_Keyword_45      1.109798\n",
            "122   Medical_Keyword_46      1.073745\n",
            "123   Medical_Keyword_47      1.090815\n",
            "124   Medical_Keyword_48     67.408677\n",
            "               Feature        VIF\n",
            "8                   Wt  85.609503\n",
            "99  Medical_Keyword_23  68.315816\n",
            "68  Medical_History_33  67.774200\n"
          ]
        }
      ]
    }
  ]
}